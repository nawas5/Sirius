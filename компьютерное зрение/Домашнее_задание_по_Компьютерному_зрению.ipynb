{
  "nbformat": 4,
  "nbformat_minor": 0,
  "metadata": {
    "colab": {
      "name": "Домашнее задание по Компьютерному зрению.ipynb",
      "provenance": [],
      "collapsed_sections": []
    },
    "kernelspec": {
      "name": "python3",
      "display_name": "Python 3"
    },
    "language_info": {
      "name": "python"
    },
    "accelerator": "GPU"
  },
  "cells": [
    {
      "cell_type": "markdown",
      "metadata": {
        "id": "mP09903PVMkG"
      },
      "source": [
        "Масалкова Наталья\n",
        "\n",
        "Домашнее задание по Компьютерному зрению"
      ]
    },
    {
      "cell_type": "code",
      "metadata": {
        "id": "n2NjWZTvUf6y"
      },
      "source": [
        "# загрузка библиотек\n",
        "from tensorflow.keras.datasets import mnist\n",
        "from tensorflow.keras.models import Sequential\n",
        "from tensorflow.keras.layers import Dense, BatchNormalization, Dropout, Activation\n",
        "from tensorflow.keras.layers import Conv2D, MaxPooling2D, Flatten\n",
        "from tensorflow.keras.optimizers import Adam\n",
        "from tensorflow.keras import utils\n",
        "from tensorflow.keras.preprocessing import image\n",
        "\n",
        "import numpy as np\n",
        "import pandas as pd\n",
        "import random\n",
        "import seaborn as sns\n",
        "import matplotlib.pyplot as plt\n",
        "sns.set_style('darkgrid')\n",
        "import os\n",
        "\n",
        "from PIL import Image\n",
        "from sklearn.preprocessing import StandardScaler, MinMaxScaler\n",
        "from sklearn import preprocessing\n",
        "from sklearn.model_selection import train_test_split\n",
        "from collections import Counter\n",
        "\n",
        "from google.colab import files, drive"
      ],
      "execution_count": null,
      "outputs": []
    },
    {
      "cell_type": "code",
      "metadata": {
        "colab": {
          "base_uri": "https://localhost:8080/"
        },
        "id": "f6QvuvqEW8jN",
        "outputId": "49a1b0e4-9343-41dc-ed3d-72ce0ed91a37"
      },
      "source": [
        "# подгрузим гугл диск \n",
        "drive.mount('/content/drive')"
      ],
      "execution_count": null,
      "outputs": [
        {
          "output_type": "stream",
          "name": "stdout",
          "text": [
            "Mounted at /content/drive\n"
          ]
        }
      ]
    },
    {
      "cell_type": "code",
      "metadata": {
        "colab": {
          "base_uri": "https://localhost:8080/"
        },
        "id": "Vs9DDGH7W1ls",
        "outputId": "25fb00e9-b7a6-436a-ef13-838f42c5f749"
      },
      "source": [
        "# загрузим библиотеку mnist\n",
        "(x_train_org, y_train_org), (x_test_org, y_test_org) = mnist.load_data()\n",
        "print(x_train_org.shape)\n",
        "print(x_test_org.shape)\n",
        "\n",
        "# нормирование\n",
        "x_train = x_train_org.astype('float32')\n",
        "x_test = x_test_org.astype('float32')\n",
        "x_train = x_train / 255\n",
        "x_test  = x_test / 255\n",
        "\n",
        "# разбиение на категории\n",
        "y_train = utils.to_categorical(y_train_org,10)\n",
        "y_test = utils.to_categorical(y_test_org,10)"
      ],
      "execution_count": null,
      "outputs": [
        {
          "output_type": "stream",
          "name": "stdout",
          "text": [
            "Downloading data from https://storage.googleapis.com/tensorflow/tf-keras-datasets/mnist.npz\n",
            "11493376/11490434 [==============================] - 0s 0us/step\n",
            "11501568/11490434 [==============================] - 0s 0us/step\n",
            "(60000, 28, 28)\n",
            "(10000, 28, 28)\n"
          ]
        }
      ]
    },
    {
      "cell_type": "code",
      "metadata": {
        "colab": {
          "base_uri": "https://localhost:8080/",
          "height": 166
        },
        "id": "3zLcW2Y0Xajj",
        "outputId": "24dcd105-d2e7-46ae-b2cb-26437f04443b"
      },
      "source": [
        "# выводим для примера картинки из каждого класса\n",
        "fig, axs = plt.subplots(1, 10, figsize=(25, 3)) \n",
        "for i in range(10): \n",
        "  label_indexes = np.where(y_train_org==i)[0] \n",
        "  index = random.choice(label_indexes) \n",
        "  img = x_train_org[index] \n",
        "  axs[i].imshow(Image.fromarray(img), cmap='gray') \n",
        "\n",
        "plt.show() "
      ],
      "execution_count": null,
      "outputs": [
        {
          "output_type": "display_data",
          "data": {
            "image/png": "[encoded data removed]",
            "text/plain": [
              "<Figure size 1800x216 with 10 Axes>"
            ]
          },
          "metadata": {
            "needs_background": "light"
          }
        }
      ]
    },
    {
      "cell_type": "code",
      "metadata": {
        "colab": {
          "base_uri": "https://localhost:8080/"
        },
        "id": "RS4a8QfXXize",
        "outputId": "f70a102a-1d14-4120-9b8d-b72b5e592021"
      },
      "source": [
        "# меняем форму входных данных для подачи их в нейронную сеть\n",
        "x_train = x_train.reshape(x_train.shape[0], 28, 28, 1)\n",
        "x_test = x_test.reshape(x_test.shape[0], 28, 28, 1)\n",
        "\n",
        "print(x_train.shape)\n",
        "print(x_test.shape)\n",
        "print(y_train.shape)\n",
        "print(y_test.shape)"
      ],
      "execution_count": null,
      "outputs": [
        {
          "output_type": "stream",
          "name": "stdout",
          "text": [
            "(60000, 28, 28, 1)\n",
            "(10000, 28, 28, 1)\n",
            "(60000, 10)\n",
            "(10000, 10)\n"
          ]
        }
      ]
    },
    {
      "cell_type": "code",
      "metadata": {
        "colab": {
          "base_uri": "https://localhost:8080/"
        },
        "id": "mz5sh-LdYFsL",
        "outputId": "b25aa85a-0c9f-4803-e95a-67f1265d911d"
      },
      "source": [
        "# сделаем нейронную сеть\n",
        "\n",
        "model = Sequential()\n",
        "model.add(BatchNormalization(input_shape=(28,28,1)))\n",
        "model.add(Conv2D(32, (3,3), padding='same', activation='relu'))\n",
        "model.add(Conv2D(32, (3,3), padding='same', activation='relu'))\n",
        "model.add(MaxPooling2D(pool_size=(2,2)))\n",
        "model.add(Conv2D(64, (3,3), padding='same', activation='relu'))\n",
        "model.add(Conv2D(64, (3,3), padding='same', activation='relu'))\n",
        "model.add(MaxPooling2D(pool_size=(2,2)))\n",
        "model.add(Flatten())\n",
        "model.add(BatchNormalization())\n",
        "model.add(Dense(10, activation='softmax'))\n",
        "\n",
        "model.compile(loss='categorical_crossentropy', optimizer=Adam(lr=1e-4), metrics=['accuracy'])\n",
        "model.summary()"
      ],
      "execution_count": null,
      "outputs": [
        {
          "output_type": "stream",
          "name": "stdout",
          "text": [
            "Model: \"sequential\"\n",
            "_________________________________________________________________\n",
            "Layer (type)                 Output Shape              Param #   \n",
            "=================================================================\n",
            "batch_normalization (BatchNo (None, 28, 28, 1)         4         \n",
            "_________________________________________________________________\n",
            "conv2d (Conv2D)              (None, 28, 28, 32)        320       \n",
            "_________________________________________________________________\n",
            "conv2d_1 (Conv2D)            (None, 28, 28, 32)        9248      \n",
            "_________________________________________________________________\n",
            "max_pooling2d (MaxPooling2D) (None, 14, 14, 32)        0         \n",
            "_________________________________________________________________\n",
            "conv2d_2 (Conv2D)            (None, 14, 14, 64)        18496     \n",
            "_________________________________________________________________\n",
            "conv2d_3 (Conv2D)            (None, 14, 14, 64)        36928     \n",
            "_________________________________________________________________\n",
            "max_pooling2d_1 (MaxPooling2 (None, 7, 7, 64)          0         \n",
            "_________________________________________________________________\n",
            "flatten (Flatten)            (None, 3136)              0         \n",
            "_________________________________________________________________\n",
            "batch_normalization_1 (Batch (None, 3136)              12544     \n",
            "_________________________________________________________________\n",
            "dense (Dense)                (None, 10)                31370     \n",
            "=================================================================\n",
            "Total params: 108,910\n",
            "Trainable params: 102,636\n",
            "Non-trainable params: 6,274\n",
            "_________________________________________________________________\n"
          ]
        },
        {
          "output_type": "stream",
          "name": "stderr",
          "text": [
            "/usr/local/lib/python3.7/dist-packages/keras/optimizer_v2/optimizer_v2.py:356: UserWarning: The `lr` argument is deprecated, use `learning_rate` instead.\n",
            "  \"The `lr` argument is deprecated, use `learning_rate` instead.\")\n"
          ]
        }
      ]
    },
    {
      "cell_type": "code",
      "metadata": {
        "colab": {
          "base_uri": "https://localhost:8080/",
          "height": 783
        },
        "id": "If8MAlNKYhRT",
        "outputId": "d6277aed-7a5c-431c-ccc0-f4d156146e29"
      },
      "source": [
        "history = model.fit(x_train, \n",
        "                    y_train, \n",
        "                    batch_size=128, \n",
        "                    epochs=15,\n",
        "                    validation_split=0.2,\n",
        "                    verbose=1)\n",
        "\n",
        "\n",
        "plt.plot(history.history['accuracy'], \n",
        "         label='Доля верных ответов на обучающем наборе')\n",
        "plt.plot(history.history['val_accuracy'], \n",
        "         label='Доля верных ответов на проверочном наборе')\n",
        "plt.xlabel('Эпоха обучения')\n",
        "plt.ylabel('Доля верных ответов')\n",
        "plt.legend()\n",
        "plt.show()"
      ],
      "execution_count": null,
      "outputs": [
        {
          "output_type": "stream",
          "name": "stdout",
          "text": [
            "Epoch 1/15\n",
            "375/375 [==============================] - 38s 21ms/step - loss: 0.3379 - accuracy: 0.9064 - val_loss: 0.4126 - val_accuracy: 0.9736\n",
            "Epoch 2/15\n",
            "375/375 [==============================] - 7s 20ms/step - loss: 0.0834 - accuracy: 0.9773 - val_loss: 0.0667 - val_accuracy: 0.9818\n",
            "Epoch 3/15\n",
            "375/375 [==============================] - 7s 20ms/step - loss: 0.0556 - accuracy: 0.9847 - val_loss: 0.0537 - val_accuracy: 0.9841\n",
            "Epoch 4/15\n",
            "375/375 [==============================] - 7s 20ms/step - loss: 0.0416 - accuracy: 0.9888 - val_loss: 0.0537 - val_accuracy: 0.9839\n",
            "Epoch 5/15\n",
            "375/375 [==============================] - 8s 20ms/step - loss: 0.0329 - accuracy: 0.9913 - val_loss: 0.0411 - val_accuracy: 0.9866\n",
            "Epoch 6/15\n",
            "375/375 [==============================] - 7s 20ms/step - loss: 0.0276 - accuracy: 0.9928 - val_loss: 0.0394 - val_accuracy: 0.9881\n",
            "Epoch 7/15\n",
            "375/375 [==============================] - 7s 20ms/step - loss: 0.0230 - accuracy: 0.9941 - val_loss: 0.0364 - val_accuracy: 0.9887\n",
            "Epoch 8/15\n",
            "375/375 [==============================] - 8s 20ms/step - loss: 0.0192 - accuracy: 0.9951 - val_loss: 0.0381 - val_accuracy: 0.9876\n",
            "Epoch 9/15\n",
            "375/375 [==============================] - 7s 20ms/step - loss: 0.0159 - accuracy: 0.9963 - val_loss: 0.0372 - val_accuracy: 0.9881\n",
            "Epoch 10/15\n",
            "375/375 [==============================] - 7s 20ms/step - loss: 0.0133 - accuracy: 0.9969 - val_loss: 0.0385 - val_accuracy: 0.9882\n",
            "Epoch 11/15\n",
            "375/375 [==============================] - 7s 20ms/step - loss: 0.0116 - accuracy: 0.9976 - val_loss: 0.0338 - val_accuracy: 0.9898\n",
            "Epoch 12/15\n",
            "375/375 [==============================] - 7s 20ms/step - loss: 0.0094 - accuracy: 0.9983 - val_loss: 0.0302 - val_accuracy: 0.9908\n",
            "Epoch 13/15\n",
            "375/375 [==============================] - 7s 20ms/step - loss: 0.0081 - accuracy: 0.9987 - val_loss: 0.0440 - val_accuracy: 0.9861\n",
            "Epoch 14/15\n",
            "375/375 [==============================] - 7s 20ms/step - loss: 0.0070 - accuracy: 0.9989 - val_loss: 0.0326 - val_accuracy: 0.9902\n",
            "Epoch 15/15\n",
            "375/375 [==============================] - 7s 20ms/step - loss: 0.0056 - accuracy: 0.9993 - val_loss: 0.0317 - val_accuracy: 0.9908\n"
          ]
        },
        {
          "output_type": "display_data",
          "data": {
            "image/png": "[encoded data removed]",
            "text/plain": [
              "<Figure size 432x288 with 1 Axes>"
            ]
          },
          "metadata": {
            "needs_background": "light"
          }
        }
      ]
    },
    {
      "cell_type": "markdown",
      "metadata": {
        "id": "42auRWx0LOYX"
      },
      "source": [
        "На проверочном наборе точность с 6-8 эпохи уже не особо растет, поэтому 15 эпох для обучения достаточно"
      ]
    },
    {
      "cell_type": "code",
      "metadata": {
        "colab": {
          "base_uri": "https://localhost:8080/"
        },
        "id": "DlYqZDIeY7U5",
        "outputId": "e65c9f26-8ebb-4195-b96f-4bd2fdfa07a5"
      },
      "source": [
        "# определение цифр из тестовой выборки\n",
        "n = np.random.randint(x_test.shape[0])\n",
        "prediction = model.predict(x_test)\n",
        "\n",
        "print(\"Выход сети: \", prediction[n])\n",
        "print(\"Распознанная цифра: \", np.argmax(prediction[n]))\n",
        "print(\"Верный ответ: \", np.argmax(y_test[n]))"
      ],
      "execution_count": null,
      "outputs": [
        {
          "output_type": "stream",
          "name": "stdout",
          "text": [
            "Выход сети:  [5.7160810e-06 9.9927384e-01 1.4540795e-05 2.7038575e-06 1.4136989e-06\n",
            " 1.6944523e-07 2.4878927e-08 6.4776844e-04 4.1457923e-07 5.3433530e-05]\n",
            "Распознанная цифра:  1\n",
            "Верный ответ:  1\n"
          ]
        }
      ]
    },
    {
      "cell_type": "code",
      "metadata": {
        "colab": {
          "base_uri": "https://localhost:8080/"
        },
        "id": "KI1m50LPa7xP",
        "outputId": "34935e67-4742-4385-b234-5cbb4970f07f"
      },
      "source": [
        "ev_test = model.evaluate(x_test, y_test)\n",
        "print('Точность на тестовой', ev_test[1])"
      ],
      "execution_count": null,
      "outputs": [
        {
          "output_type": "stream",
          "name": "stdout",
          "text": [
            "313/313 [==============================] - 2s 5ms/step - loss: 0.0254 - accuracy: 0.9913\n",
            "Точность на тестовой 0.9912999868392944\n"
          ]
        }
      ]
    },
    {
      "cell_type": "code",
      "metadata": {
        "id": "-ZIVsUCybETk"
      },
      "source": [
        "prediction_test = model.predict(x_test)\n",
        "prediction_test = np.argmax(prediction_test, axis=1)\n",
        "mask_test = prediction_test == y_test_org\n",
        "\n",
        "prediction = model.predict(x_train)\n",
        "prediction = np.argmax(prediction, axis=1)\n",
        "mask_train = prediction == y_train_org"
      ],
      "execution_count": null,
      "outputs": []
    },
    {
      "cell_type": "code",
      "metadata": {
        "colab": {
          "base_uri": "https://localhost:8080/"
        },
        "id": "r5muLT29bFys",
        "outputId": "cce9b266-88ab-4303-aaf5-000109c530c2"
      },
      "source": [
        "#выводим индексы, которые должны получиться и которые мы предсказали\n",
        "print(prediction_test[:20])\n",
        "print(y_test_org[:20].flatten())"
      ],
      "execution_count": null,
      "outputs": [
        {
          "output_type": "stream",
          "name": "stdout",
          "text": [
            "[7 2 1 0 4 1 4 9 5 9 0 6 9 0 1 5 9 7 3 4]\n",
            "[7 2 1 0 4 1 4 9 5 9 0 6 9 0 1 5 9 7 3 4]\n"
          ]
        }
      ]
    },
    {
      "cell_type": "code",
      "metadata": {
        "colab": {
          "base_uri": "https://localhost:8080/"
        },
        "id": "J6nAuK6VbHeX",
        "outputId": "754955a6-c6f4-4e85-c6b4-bc64e5210019"
      },
      "source": [
        "#выведем маску, True - совпадение, False - сетка ошиблась в распозновании картинки\n",
        "print(mask_test.shape)\n",
        "print(mask_test[:100])"
      ],
      "execution_count": null,
      "outputs": [
        {
          "output_type": "stream",
          "name": "stdout",
          "text": [
            "(10000,)\n",
            "[ True  True  True  True  True  True  True  True  True  True  True  True\n",
            "  True  True  True  True  True  True  True  True  True  True  True  True\n",
            "  True  True  True  True  True  True  True  True  True  True  True  True\n",
            "  True  True  True  True  True  True  True  True  True  True  True  True\n",
            "  True  True  True  True  True  True  True  True  True  True  True  True\n",
            "  True  True  True  True  True  True  True  True  True  True  True  True\n",
            "  True  True  True  True  True  True  True  True  True  True  True  True\n",
            "  True  True  True  True  True  True  True  True  True  True  True  True\n",
            "  True  True  True  True]\n"
          ]
        }
      ]
    },
    {
      "cell_type": "code",
      "metadata": {
        "id": "zJzc8LaZbXoo"
      },
      "source": [
        "#решейпим в плоское пространство\n",
        "y_train_reshape = y_train_org.flatten()\n",
        "y_test_reshape = y_test_org.flatten()"
      ],
      "execution_count": null,
      "outputs": []
    },
    {
      "cell_type": "code",
      "metadata": {
        "id": "vxXY5gd0ba9p"
      },
      "source": [
        "count_y_train = Counter(y_train_reshape)\n",
        "count_y_test = Counter(y_test_reshape)"
      ],
      "execution_count": null,
      "outputs": []
    },
    {
      "cell_type": "code",
      "metadata": {
        "id": "Az_C7TUKbcOQ"
      },
      "source": [
        "count_err_train = Counter(y_train_reshape[mask_train])\n",
        "count_err_test = Counter(y_test_reshape[mask_test])"
      ],
      "execution_count": null,
      "outputs": []
    },
    {
      "cell_type": "code",
      "metadata": {
        "colab": {
          "base_uri": "https://localhost:8080/"
        },
        "id": "eyawVgNhbeXj",
        "outputId": "03b813c7-1ece-4e55-a17d-0c4c326e1a4b"
      },
      "source": [
        "# Процент правильно распознанных\n",
        "print('----------правильные распознавания-------')\n",
        "print('     класс :  обучающая  :   тестовая')\n",
        "for i in range(10):\n",
        "  #print(classes[i],':',count_err[i])\n",
        "  print(f'{i:>10} :{round(100*count_err_train[i]/count_y_train[i],2):10}%  : {round(100*count_err_test[i]/count_y_test[i],2):10}%')"
      ],
      "execution_count": null,
      "outputs": [
        {
          "output_type": "stream",
          "name": "stdout",
          "text": [
            "----------правильные распознавания-------\n",
            "     класс :  обучающая  :   тестовая\n",
            "         0 :     99.86%  :      99.59%\n",
            "         1 :      99.9%  :      99.82%\n",
            "         2 :     99.95%  :      99.52%\n",
            "         3 :      99.8%  :      99.31%\n",
            "         4 :     99.62%  :      98.17%\n",
            "         5 :     99.63%  :       99.1%\n",
            "         6 :     99.93%  :      98.96%\n",
            "         7 :     99.68%  :      98.15%\n",
            "         8 :     99.79%  :      99.49%\n",
            "         9 :     99.71%  :      99.11%\n"
          ]
        }
      ]
    },
    {
      "cell_type": "markdown",
      "metadata": {
        "id": "8ET2FedjdqAJ"
      },
      "source": [
        "Получили хорошее распознавание рукописных цифр из базы mnist"
      ]
    },
    {
      "cell_type": "code",
      "metadata": {
        "colab": {
          "base_uri": "https://localhost:8080/",
          "height": 166
        },
        "id": "dzN7f75Wd7dp",
        "outputId": "c261a0e5-2ca7-4458-ddc2-3ee4e4ee4f38"
      },
      "source": [
        "img_height = 28\n",
        "img_width = 28\n",
        "\n",
        "fig, axs = plt.subplots(1, 10, figsize=(25, 5)) \n",
        "for i in range(10): \n",
        "  car_path = '/content/' + str(i) + '.jpg'\n",
        "  img_path = car_path\n",
        "  axs[i].imshow(image.load_img(img_path, target_size=(img_height, img_width)))\n",
        "  x = image.load_img(img_path, target_size=(img_height, img_width))\n",
        "\n",
        "plt.show() "
      ],
      "execution_count": null,
      "outputs": [
        {
          "output_type": "display_data",
          "data": {
            "image/png": "[encoded data removed]",
            "text/plain": [
              "<Figure size 1800x360 with 10 Axes>"
            ]
          },
          "metadata": {
            "needs_background": "light"
          }
        }
      ]
    },
    {
      "cell_type": "code",
      "metadata": {
        "colab": {
          "base_uri": "https://localhost:8080/"
        },
        "id": "FGSrmHZdI_48",
        "outputId": "00e0d9b1-c796-429f-9477-be7966d904bb"
      },
      "source": [
        "x_train.shape"
      ],
      "execution_count": null,
      "outputs": [
        {
          "output_type": "execute_result",
          "data": {
            "text/plain": [
              "(60000, 28, 28, 1)"
            ]
          },
          "metadata": {},
          "execution_count": 58
        }
      ]
    },
    {
      "cell_type": "code",
      "metadata": {
        "colab": {
          "base_uri": "https://localhost:8080/"
        },
        "id": "P87Qx-cpDuoM",
        "outputId": "e5e798bc-28da-4f07-8fed-3c53a4507cf8"
      },
      "source": [
        "for i in range(10):\n",
        "\n",
        "  imi = Image.open('/content/' + str(i) + '.jpg').convert('L')\n",
        "  imi = imi.resize((28, 28), Image.ANTIALIAS)\n",
        "  imi = np.array(imi).reshape(1, 28, 28, 1)\n",
        "  print(imi.shape)\n",
        "  imi = imi.astype('float32')\n",
        "  imi = imi / 255\n",
        "  prediction = model.predict(imi)\n",
        "\n",
        "  print(\"Выход сети: \", prediction)\n",
        "  print(\"Распознанная цифра: \", np.argmax(prediction))\n",
        "  print(\"Правильная цифра:\", i)"
      ],
      "execution_count": null,
      "outputs": [
        {
          "output_type": "stream",
          "name": "stdout",
          "text": [
            "(1, 28, 28, 1)\n",
            "Выход сети:  [[9.7013861e-01 2.2721560e-04 2.5276472e-03 2.6410447e-05 2.2208671e-05\n",
            "  4.9694634e-05 5.1846276e-03 3.7956855e-04 3.0888931e-03 1.8355215e-02]]\n",
            "Распознанная цифра:  0\n",
            "Правильная цифра: 0\n",
            "(1, 28, 28, 1)\n",
            "Выход сети:  [[5.1024612e-03 7.6520360e-01 4.1530922e-02 2.4053584e-04 8.7624067e-05\n",
            "  9.8432659e-04 7.5946227e-05 1.7045680e-01 2.9008198e-03 1.3416983e-02]]\n",
            "Распознанная цифра:  1\n",
            "Правильная цифра: 1\n",
            "(1, 28, 28, 1)\n",
            "Выход сети:  [[2.4768693e-04 3.6163260e-03 9.9425793e-01 2.6806882e-05 1.3137083e-07\n",
            "  6.4987483e-07 1.1147453e-06 4.6904702e-04 1.2977743e-03 8.2549115e-05]]\n",
            "Распознанная цифра:  2\n",
            "Правильная цифра: 2\n",
            "(1, 28, 28, 1)\n",
            "Выход сети:  [[1.6337541e-06 4.7094585e-05 9.8961587e-05 9.9959832e-01 6.3629791e-08\n",
            "  1.6606077e-04 8.7657085e-08 2.5230993e-06 1.3785696e-06 8.3900835e-05]]\n",
            "Распознанная цифра:  3\n",
            "Правильная цифра: 3\n",
            "(1, 28, 28, 1)\n",
            "Выход сети:  [[9.1565735e-06 1.4959327e-03 9.4831643e-07 1.0626080e-06 9.9765706e-01\n",
            "  5.1265382e-05 1.6727066e-05 4.2252719e-05 9.2284907e-05 6.3331862e-04]]\n",
            "Распознанная цифра:  4\n",
            "Правильная цифра: 4\n",
            "(1, 28, 28, 1)\n",
            "Выход сети:  [[7.4770334e-08 3.4979490e-05 7.0372141e-07 2.5108876e-04 4.7272101e-06\n",
            "  9.9968457e-01 7.4699415e-06 2.7096357e-07 4.9262360e-07 1.5612884e-05]]\n",
            "Распознанная цифра:  5\n",
            "Правильная цифра: 5\n",
            "(1, 28, 28, 1)\n",
            "Выход сети:  [[6.8182242e-03 3.7462647e-05 2.9776391e-04 6.2643193e-02 2.8304552e-04\n",
            "  1.2587652e-01 7.5167388e-01 9.0183551e-07 2.3317391e-03 5.0037235e-02]]\n",
            "Распознанная цифра:  6\n",
            "Правильная цифра: 6\n",
            "(1, 28, 28, 1)\n",
            "Выход сети:  [[6.0637877e-09 3.6243253e-07 4.9396796e-05 3.7759564e-06 1.3556444e-06\n",
            "  1.4804616e-05 2.0376294e-09 9.9992907e-01 9.5202375e-07 1.8322189e-07]]\n",
            "Распознанная цифра:  7\n",
            "Правильная цифра: 7\n",
            "(1, 28, 28, 1)\n",
            "Выход сети:  [[4.7087385e-03 1.8607519e-05 7.6521124e-04 1.0137580e-03 1.3066356e-05\n",
            "  1.7369096e-03 2.2917017e-03 7.8354897e-06 9.8112237e-01 8.3218943e-03]]\n",
            "Распознанная цифра:  8\n",
            "Правильная цифра: 8\n",
            "(1, 28, 28, 1)\n",
            "Выход сети:  [[2.8026142e-04 2.5746893e-04 5.4122973e-04 1.1014069e-01 7.7759607e-05\n",
            "  1.7476168e-02 2.7907174e-07 2.7138635e-03 5.1997089e-05 8.6846036e-01]]\n",
            "Распознанная цифра:  9\n",
            "Правильная цифра: 9\n"
          ]
        }
      ]
    },
    {
      "cell_type": "markdown",
      "metadata": {
        "id": "Vxq3awhGKcaP"
      },
      "source": [
        "Все верно распознает"
      ]
    },
    {
      "cell_type": "markdown",
      "metadata": {
        "id": "KPa-LpKpKuhe"
      },
      "source": [
        "Упростим нейронную сеть оставив по одному сверточному фильтру"
      ]
    },
    {
      "cell_type": "code",
      "metadata": {
        "colab": {
          "base_uri": "https://localhost:8080/"
        },
        "id": "A1pT3dSZKd60",
        "outputId": "93c8bbee-a465-42e0-b128-e65257a98e70"
      },
      "source": [
        "# сделаем нейронную сеть\n",
        "\n",
        "model = Sequential()\n",
        "model.add(BatchNormalization(input_shape=(28,28,1)))\n",
        "model.add(Conv2D(32, (3,3), padding='same', activation='relu'))\n",
        "model.add(MaxPooling2D(pool_size=(2,2)))\n",
        "model.add(Conv2D(64, (3,3), padding='same', activation='relu'))\n",
        "model.add(MaxPooling2D(pool_size=(2,2)))\n",
        "model.add(Flatten())\n",
        "model.add(BatchNormalization())\n",
        "model.add(Dense(10, activation='softmax'))\n",
        "\n",
        "model.compile(loss='categorical_crossentropy', optimizer=Adam(lr=1e-4), metrics=['accuracy'])\n",
        "model.summary()"
      ],
      "execution_count": null,
      "outputs": [
        {
          "output_type": "stream",
          "name": "stdout",
          "text": [
            "Model: \"sequential_2\"\n",
            "_________________________________________________________________\n",
            "Layer (type)                 Output Shape              Param #   \n",
            "=================================================================\n",
            "batch_normalization_4 (Batch (None, 28, 28, 1)         4         \n",
            "_________________________________________________________________\n",
            "conv2d_8 (Conv2D)            (None, 28, 28, 32)        320       \n",
            "_________________________________________________________________\n",
            "max_pooling2d_4 (MaxPooling2 (None, 14, 14, 32)        0         \n",
            "_________________________________________________________________\n",
            "conv2d_9 (Conv2D)            (None, 14, 14, 64)        18496     \n",
            "_________________________________________________________________\n",
            "max_pooling2d_5 (MaxPooling2 (None, 7, 7, 64)          0         \n",
            "_________________________________________________________________\n",
            "flatten_2 (Flatten)          (None, 3136)              0         \n",
            "_________________________________________________________________\n",
            "batch_normalization_5 (Batch (None, 3136)              12544     \n",
            "_________________________________________________________________\n",
            "dense_2 (Dense)              (None, 10)                31370     \n",
            "=================================================================\n",
            "Total params: 62,734\n",
            "Trainable params: 56,460\n",
            "Non-trainable params: 6,274\n",
            "_________________________________________________________________\n"
          ]
        },
        {
          "output_type": "stream",
          "name": "stderr",
          "text": [
            "/usr/local/lib/python3.7/dist-packages/keras/optimizer_v2/optimizer_v2.py:356: UserWarning: The `lr` argument is deprecated, use `learning_rate` instead.\n",
            "  \"The `lr` argument is deprecated, use `learning_rate` instead.\")\n"
          ]
        }
      ]
    },
    {
      "cell_type": "code",
      "metadata": {
        "colab": {
          "base_uri": "https://localhost:8080/",
          "height": 783
        },
        "id": "wt8miDXnKhd4",
        "outputId": "20ebcf5f-2e87-4bfc-8eb8-c9305d62659c"
      },
      "source": [
        "history = model.fit(x_train, \n",
        "                    y_train, \n",
        "                    batch_size=128, \n",
        "                    epochs=15,\n",
        "                    validation_split=0.2,\n",
        "                    verbose=1)\n",
        "\n",
        "\n",
        "plt.plot(history.history['accuracy'], \n",
        "         label='Доля верных ответов на обучающем наборе')\n",
        "plt.plot(history.history['val_accuracy'], \n",
        "         label='Доля верных ответов на проверочном наборе')\n",
        "plt.xlabel('Эпоха обучения')\n",
        "plt.ylabel('Доля верных ответов')\n",
        "plt.legend()\n",
        "plt.show()"
      ],
      "execution_count": null,
      "outputs": [
        {
          "output_type": "stream",
          "name": "stdout",
          "text": [
            "Epoch 1/15\n",
            "375/375 [==============================] - 5s 11ms/step - loss: 0.4560 - accuracy: 0.8673 - val_loss: 0.3862 - val_accuracy: 0.9495\n",
            "Epoch 2/15\n",
            "375/375 [==============================] - 4s 10ms/step - loss: 0.1441 - accuracy: 0.9609 - val_loss: 0.1069 - val_accuracy: 0.9728\n",
            "Epoch 3/15\n",
            "375/375 [==============================] - 4s 10ms/step - loss: 0.0958 - accuracy: 0.9736 - val_loss: 0.0806 - val_accuracy: 0.9781\n",
            "Epoch 4/15\n",
            "375/375 [==============================] - 4s 10ms/step - loss: 0.0730 - accuracy: 0.9800 - val_loss: 0.0683 - val_accuracy: 0.9810\n",
            "Epoch 5/15\n",
            "375/375 [==============================] - 4s 11ms/step - loss: 0.0593 - accuracy: 0.9834 - val_loss: 0.0599 - val_accuracy: 0.9819\n",
            "Epoch 6/15\n",
            "375/375 [==============================] - 4s 10ms/step - loss: 0.0500 - accuracy: 0.9862 - val_loss: 0.0530 - val_accuracy: 0.9847\n",
            "Epoch 7/15\n",
            "375/375 [==============================] - 4s 10ms/step - loss: 0.0428 - accuracy: 0.9885 - val_loss: 0.0491 - val_accuracy: 0.9852\n",
            "Epoch 8/15\n",
            "375/375 [==============================] - 4s 11ms/step - loss: 0.0369 - accuracy: 0.9908 - val_loss: 0.0472 - val_accuracy: 0.9861\n",
            "Epoch 9/15\n",
            "375/375 [==============================] - 4s 10ms/step - loss: 0.0329 - accuracy: 0.9917 - val_loss: 0.0454 - val_accuracy: 0.9862\n",
            "Epoch 10/15\n",
            "375/375 [==============================] - 4s 10ms/step - loss: 0.0297 - accuracy: 0.9925 - val_loss: 0.0433 - val_accuracy: 0.9871\n",
            "Epoch 11/15\n",
            "375/375 [==============================] - 4s 10ms/step - loss: 0.0259 - accuracy: 0.9937 - val_loss: 0.0432 - val_accuracy: 0.9870\n",
            "Epoch 12/15\n",
            "375/375 [==============================] - 4s 11ms/step - loss: 0.0232 - accuracy: 0.9944 - val_loss: 0.0411 - val_accuracy: 0.9875\n",
            "Epoch 13/15\n",
            "375/375 [==============================] - 4s 11ms/step - loss: 0.0206 - accuracy: 0.9950 - val_loss: 0.0400 - val_accuracy: 0.9878\n",
            "Epoch 14/15\n",
            "375/375 [==============================] - 4s 10ms/step - loss: 0.0185 - accuracy: 0.9959 - val_loss: 0.0414 - val_accuracy: 0.9877\n",
            "Epoch 15/15\n",
            "375/375 [==============================] - 4s 10ms/step - loss: 0.0169 - accuracy: 0.9963 - val_loss: 0.0398 - val_accuracy: 0.9871\n"
          ]
        },
        {
          "output_type": "display_data",
          "data": {
            "image/png": "[encoded data removed]",
            "text/plain": [
              "<Figure size 432x288 with 1 Axes>"
            ]
          },
          "metadata": {
            "needs_background": "light"
          }
        }
      ]
    },
    {
      "cell_type": "code",
      "metadata": {
        "colab": {
          "base_uri": "https://localhost:8080/"
        },
        "id": "4JzdE_YCKtmE",
        "outputId": "b9cdfea9-bad2-4620-d806-dff35be1d53f"
      },
      "source": [
        "for i in range(10):\n",
        "\n",
        "  imi = Image.open('/content/' + str(i) + '.jpg').convert('L')\n",
        "  imi = imi.resize((28, 28), Image.ANTIALIAS)\n",
        "  imi = np.array(imi).reshape(1, 28, 28, 1)\n",
        "  print(imi.shape)\n",
        "  imi = imi.astype('float32')\n",
        "  imi = imi / 255\n",
        "  prediction = model.predict(imi)\n",
        "\n",
        "  print(\"Выход сети: \", prediction)\n",
        "  print(\"Распознанная цифра: \", np.argmax(prediction))\n",
        "  print(\"Правильная цифра:\", i)"
      ],
      "execution_count": null,
      "outputs": [
        {
          "output_type": "stream",
          "name": "stdout",
          "text": [
            "(1, 28, 28, 1)\n",
            "Выход сети:  [[9.90702510e-01 1.02630685e-04 1.97857711e-03 8.64470276e-05\n",
            "  1.27860312e-05 4.29958563e-05 6.72179088e-03 1.26896091e-04\n",
            "  2.44555340e-05 2.01042712e-04]]\n",
            "Распознанная цифра:  0\n",
            "Правильная цифра: 0\n",
            "(1, 28, 28, 1)\n",
            "Выход сети:  [[3.7078031e-03 9.7273356e-01 4.2632655e-03 4.5017982e-04 3.7467395e-05\n",
            "  1.1313052e-03 3.1682564e-05 1.6188765e-02 1.7225601e-04 1.2837291e-03]]\n",
            "Распознанная цифра:  1\n",
            "Правильная цифра: 1\n",
            "(1, 28, 28, 1)\n",
            "Выход сети:  [[1.5145834e-03 1.9282874e-02 9.7363776e-01 1.2402101e-03 2.4684294e-07\n",
            "  7.3182546e-06 2.5917925e-06 4.2501530e-03 3.3924149e-05 3.0338037e-05]]\n",
            "Распознанная цифра:  2\n",
            "Правильная цифра: 2\n",
            "(1, 28, 28, 1)\n",
            "Выход сети:  [[1.4155693e-06 3.1962135e-04 8.7101271e-06 9.9927515e-01 1.6561766e-07\n",
            "  3.7871729e-04 2.8426203e-07 9.3992294e-06 2.5886266e-08 6.5615941e-06]]\n",
            "Распознанная цифра:  3\n",
            "Правильная цифра: 3\n",
            "(1, 28, 28, 1)\n",
            "Выход сети:  [[1.1015331e-03 2.0650050e-02 2.1304540e-05 3.1735724e-06 9.7226834e-01\n",
            "  5.9280248e-04 1.5416403e-03 1.5648546e-03 1.1334536e-04 2.1429381e-03]]\n",
            "Распознанная цифра:  4\n",
            "Правильная цифра: 4\n",
            "(1, 28, 28, 1)\n",
            "Выход сети:  [[1.5687516e-05 2.5893364e-03 3.8014892e-05 1.5587540e-03 2.2872769e-05\n",
            "  9.9573439e-01 3.8172744e-05 9.6603515e-07 1.0137043e-06 8.0598494e-07]]\n",
            "Распознанная цифра:  5\n",
            "Правильная цифра: 5\n",
            "(1, 28, 28, 1)\n",
            "Выход сети:  [[8.9510912e-03 5.2826046e-05 2.9179282e-04 1.5403031e-01 1.1706699e-04\n",
            "  1.2237717e-01 6.9293398e-01 3.2892782e-05 4.4103901e-04 2.0771885e-02]]\n",
            "Распознанная цифра:  6\n",
            "Правильная цифра: 6\n",
            "(1, 28, 28, 1)\n",
            "Выход сети:  [[4.1971383e-08 3.4628607e-07 7.7796096e-05 3.1531628e-05 4.6615082e-07\n",
            "  6.5700669e-06 3.7789376e-09 9.9988246e-01 3.6648001e-07 4.6625399e-07]]\n",
            "Распознанная цифра:  7\n",
            "Правильная цифра: 7\n",
            "(1, 28, 28, 1)\n",
            "Выход сети:  [[0.01819541 0.00226864 0.00395601 0.06787112 0.00294965 0.01160454\n",
            "  0.04398915 0.00594483 0.79660755 0.0466131 ]]\n",
            "Распознанная цифра:  8\n",
            "Правильная цифра: 8\n",
            "(1, 28, 28, 1)\n",
            "Выход сети:  [[8.2704453e-03 2.9522916e-03 1.8460421e-03 5.2290950e-02 7.6345576e-04\n",
            "  2.5873616e-01 2.1673636e-06 5.4346859e-03 1.5474376e-04 6.6954905e-01]]\n",
            "Распознанная цифра:  9\n",
            "Правильная цифра: 9\n"
          ]
        }
      ]
    },
    {
      "cell_type": "markdown",
      "metadata": {
        "id": "htc_O9q9Lknc"
      },
      "source": [
        "Отлично распознает наши рукописные цифры"
      ]
    }
  ]
}