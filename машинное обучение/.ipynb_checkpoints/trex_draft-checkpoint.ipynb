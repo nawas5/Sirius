{
 "cells": [
  {
   "cell_type": "markdown",
   "metadata": {},
   "source": [
    "### Установка chromedriver"
   ]
  },
  {
   "cell_type": "markdown",
   "metadata": {},
   "source": [
    "1. Скачать и установить google chrome браузер\n",
    "2. Посмотреть версию браузера (настройки с троеточием справа -> Help -> About Google Chrome)\n",
    "3. Скачать и установить google-chrome-driver версии, соответствующей версии браузера https://chromedriver.chromium.org/\n",
    "4. Распаковать архив и положить в <путь к проекту>/bin/chromedriver\n",
    "на виндоуз переименовать чтобы не было .exe в расширении, либо в переменной ниже поменять путь к драйверу"
   ]
  },
  {
   "cell_type": "code",
   "execution_count": 1,
   "metadata": {
    "scrolled": true
   },
   "outputs": [
    {
     "name": "stdout",
     "output_type": "stream",
     "text": [
      "Note: you may need to restart the kernel to use updated packages.\n"
     ]
    }
   ],
   "source": [
    "pip install -q selenium "
   ]
  },
  {
   "cell_type": "code",
   "execution_count": 2,
   "metadata": {},
   "outputs": [],
   "source": [
    "from enum import Enum"
   ]
  },
  {
   "cell_type": "markdown",
   "metadata": {},
   "source": [
    "### Конфиги"
   ]
  },
  {
   "cell_type": "code",
   "execution_count": 3,
   "metadata": {},
   "outputs": [],
   "source": [
    "GAME_URL = \"chrome://dino/\"\n",
    "CHROMEDRIVER_PATH = \"./bin/chromedriver\""
   ]
  },
  {
   "cell_type": "code",
   "execution_count": 4,
   "metadata": {},
   "outputs": [],
   "source": [
    "class Action(Enum):\n",
    "    DO_NOTHING = 0\n",
    "    JUMP = 1\n",
    "    # TODO: Add action DUSK\n",
    "    #DUSK = 2 "
   ]
  },
  {
   "cell_type": "markdown",
   "metadata": {},
   "source": [
    "### Среда"
   ]
  },
  {
   "cell_type": "code",
   "execution_count": 5,
   "metadata": {},
   "outputs": [],
   "source": [
    "import time\n",
    "import os\n",
    "import typing\n",
    "\n",
    "import cv2\n",
    "\n",
    "from PIL import ImageGrab\n",
    "\n",
    "import numpy as np\n",
    "\n",
    "from selenium import webdriver\n",
    "from selenium.webdriver.common.by import By\n",
    "from selenium.webdriver.common.keys import Keys"
   ]
  },
  {
   "cell_type": "code",
   "execution_count": null,
   "metadata": {},
   "outputs": [],
   "source": [
    "# ОБЯЗАТЕЛЬНО TODO: Подобрать рамку под себя\n",
    "# Создать environment (см. код ниже)\n",
    "# Начать игру\n",
    "# Подобрать различные варианты через ImageGrab.grab(bbox=(0, 210, 550, 350))"
   ]
  },
  {
   "cell_type": "code",
   "execution_count": 6,
   "metadata": {},
   "outputs": [],
   "source": [
    "SCREEN_BBOX = (0, 210, 550, 350)"
   ]
  },
  {
   "cell_type": "code",
   "execution_count": null,
   "metadata": {},
   "outputs": [],
   "source": [
    "# Запускать для подбора бокса ПОСЛЕ создания энвайронмента ниже\n",
    "# ImageGrab.grab(bbox=SCREEN_BBOX)"
   ]
  },
  {
   "cell_type": "code",
   "execution_count": 11,
   "metadata": {},
   "outputs": [
    {
     "data": {
      "image/png": "[encoded data removed]",
      "text/plain": [
       "<PIL.Image.Image image mode=RGB size=550x140 at 0x2B8D4AA9820>"
      ]
     },
     "execution_count": 11,
     "metadata": {},
     "output_type": "execute_result"
    }
   ],
   "source": [
    "# Запускать для подбора бокса ПОСЛЕ создания энвайронмента ниже\n",
    "ImageGrab.grab(bbox=SCREEN_BBOX)"
   ]
  },
  {
   "cell_type": "code",
   "execution_count": null,
   "metadata": {},
   "outputs": [],
   "source": []
  },
  {
   "cell_type": "code",
   "execution_count": 7,
   "metadata": {},
   "outputs": [],
   "source": [
    "class Environment:\n",
    "    def __init__(\n",
    "        self, \n",
    "        chrome_driver_path: str, \n",
    "        game_url: str, \n",
    "        speed: typing.Optional[int] = None,\n",
    "        acceleration: typing.Optional[float] = None,\n",
    "    ) -> None:\n",
    "        self.driver = webdriver.Chrome(executable_path=chrome_driver_path)\n",
    "        # Обязательно TODO: убедиться что эти параметры годятся \n",
    "        self.driver.set_window_position(x=-20, y=-20)\n",
    "        self.driver.set_window_size(550, 450)\n",
    "        try:\n",
    "            self.driver.get('chrome://dino')\n",
    "        except Exception:\n",
    "            pass   # ignore\n",
    "        \n",
    "        if speed:\n",
    "            self.driver.execute_script(f\"Runner.instance_.setSpeed({speed})\")\n",
    "        \n",
    "        if acceleration:\n",
    "            self.driver.execute_script(f\"Runner.config.ACCELERATION={acceleration}\")\n",
    "\n",
    "    def start_game(self):\n",
    "        self.driver.find_element(By.TAG_NAME, \"body\").send_keys(Keys.SPACE)\n",
    "        time.sleep(2)\n",
    "        \n",
    "    def close_game(self):\n",
    "        self.driver.close()\n",
    "            \n",
    "    def perform_action(self, action: Action) -> (typing.Optional[np.ndarray], float):\n",
    "        if action == Action.DO_NOTHING:\n",
    "            pass\n",
    "        elif action == Action.JUMP:\n",
    "            # TODO: Принять решение не нужна ли тут какая-то пауза убедиться что прыжок закончили\n",
    "            self.driver.find_element(By.TAG_NAME, \"body\").send_keys(Keys.SPACE)\n",
    "            time.sleep(0.5)\n",
    "        elif action == Action.DUSK:\n",
    "            # TODO: (ТОЛЬКО ЕСЛИ ДОБАВИЛИ СООТВЕТСТВУЮШИЙ ЭКШН В АГЕНТА) \n",
    "            # Если был выбран нырок, то возможно стоит подольше его подержать, а не просто один раз кликнуть\n",
    "            self.driver.driver.find_element(By.TAG_NAME, \"body\").send_keys(Keys.ARRAYS_DOWN)\n",
    "        else:\n",
    "            raise Exception(f\"Unsupported action {action}\")\n",
    "        \n",
    "        state = self.get_screen()\n",
    "        if self.has_crashed():\n",
    "            return None, 0\n",
    "        else:\n",
    "            # TODO: Попробовать разные варианты вычисления награды. Может штрафовать за лишние прыжки, например\n",
    "            reward = self.get_score() / 100\n",
    "            return state, reward\n",
    "            \n",
    "    def has_crashed(self) -> bool:\n",
    "        return self.driver.execute_script(\"return Runner.instance_.crashed\")\n",
    "    \n",
    "    def restart(self) -> None:\n",
    "        self.driver.execute_script(\"Runner.instance_.restart()\")\n",
    "\n",
    "    def get_screen(self) -> np.ndarray:\n",
    "        screen = ImageGrab.grab(bbox=SCREEN_BBOX)\n",
    "        screen = np.array(screen)\n",
    "        return self.preprocess_screen(screen)\n",
    "        \n",
    "    def preprocess_screen(self, screen: np.ndarray) -> np.ndarray:\n",
    "        # TODO: Добавить больше препроцессинга. Возможные идеи:\n",
    "        #    Убрать облака?\n",
    "        #    Убрать линию \"дороги\"?\n",
    "        #    Обрезать изображение?\n",
    "        #    Сделать черно-белым?\n",
    "        #    Поменять размер?\n",
    "        #    Сделать динозавра прямоугольником? :) \n",
    "        #    Меньше будущей информации?\n",
    "        #    Ваши идеи\n",
    "        return cv2.cvtColor(screen, cv2.COLOR_BGR2GRAY)\n",
    "        \n",
    "    def get_score(self) -> int:\n",
    "        score_array = self.driver.execute_script(\"return Runner.instance_.distanceMeter.digits\")\n",
    "        score = ''.join(score_array)\n",
    "        return int(score)\n"
   ]
  },
  {
   "cell_type": "code",
   "execution_count": 8,
   "metadata": {},
   "outputs": [
    {
     "name": "stderr",
     "output_type": "stream",
     "text": [
      "<ipython-input-7-6ae2d377bfdc>:9: DeprecationWarning: executable_path has been deprecated, please pass in a Service object\n",
      "  self.driver = webdriver.Chrome(executable_path=chrome_driver_path)\n"
     ]
    }
   ],
   "source": [
    "# TODO: Подобрать какая скорость больше подойдет\n",
    "# TODO: Принять решение будете ли использовать ускорение или лучше задать его в ноль (тогда не будет птичек еще)\n",
    "\n",
    "environment = Environment(CHROMEDRIVER_PATH, GAME_URL)"
   ]
  },
  {
   "cell_type": "code",
   "execution_count": null,
   "metadata": {},
   "outputs": [],
   "source": [
    "environment.start_game()"
   ]
  },
  {
   "cell_type": "code",
   "execution_count": null,
   "metadata": {},
   "outputs": [],
   "source": [
    "environment.perform_action(Action.JUMP)"
   ]
  },
  {
   "cell_type": "code",
   "execution_count": null,
   "metadata": {},
   "outputs": [],
   "source": [
    "environment.perform_action(Action.DO_NOTHING)"
   ]
  },
  {
   "cell_type": "code",
   "execution_count": null,
   "metadata": {},
   "outputs": [],
   "source": []
  },
  {
   "cell_type": "code",
   "execution_count": null,
   "metadata": {},
   "outputs": [],
   "source": []
  },
  {
   "cell_type": "markdown",
   "metadata": {},
   "source": [
    "### DQN"
   ]
  },
  {
   "cell_type": "code",
   "execution_count": null,
   "metadata": {},
   "outputs": [],
   "source": [
    "import torch\n",
    "import torch.nn as nn\n",
    "\n",
    "device = torch.device(\"cuda\" if torch.cuda.is_available() else \"cpu\")\n",
    "\n",
    "\n",
    "class DQN(nn.Module):\n",
    "    def __init__(self, screen_width, screen_height, action_count):\n",
    "        super(DQN, self).__init__()\n",
    "        self.conv1 = nn.Conv2d(1, 16, kernel_size=5, stride=2)\n",
    "        conv1_out_width = self.conv2d_size_out(screen_width, 5, 2)\n",
    "        conv1_out_height = self.conv2d_size_out(screen_height, 5, 2)\n",
    "        \n",
    "        self.flatten = nn.Flatten()\n",
    "        self.head = nn.Linear(conv1_out_width * conv1_out_height * 16, action_count)\n",
    "        \n",
    "    def conv2d_size_out(self, size: int, kernel_size: int, stride: int) -> int:\n",
    "        return (size - (kernel_size - 1) - 1) // stride  + 1\n",
    "    \n",
    "    def forward(self, x):\n",
    "        # TODO: Добавить различные сверточные слои / функции активации / и т.д.\n",
    "        x = x.to(device)\n",
    "        backbone = self.flatten(self.conv1(x))\n",
    "        return self.head(backbone)"
   ]
  },
  {
   "cell_type": "code",
   "execution_count": null,
   "metadata": {},
   "outputs": [],
   "source": []
  },
  {
   "cell_type": "code",
   "execution_count": null,
   "metadata": {},
   "outputs": [],
   "source": []
  },
  {
   "cell_type": "code",
   "execution_count": null,
   "metadata": {},
   "outputs": [],
   "source": [
    "screen_height = SCREEN_BBOX[3] - SCREEN_BBOX[1]\n",
    "screen_width = SCREEN_BBOX[2] - SCREEN_BBOX[0]\n",
    "\n",
    "screen_height, screen_width"
   ]
  },
  {
   "cell_type": "code",
   "execution_count": null,
   "metadata": {},
   "outputs": [],
   "source": [
    "policy_net = DQN(screen_height, screen_width, len(Action)).to(device)"
   ]
  },
  {
   "cell_type": "code",
   "execution_count": null,
   "metadata": {},
   "outputs": [],
   "source": [
    "state = torch.from_numpy(environment.get_screen()).float()\n",
    "batch_state = state.unsqueeze(0).unsqueeze(0)\n",
    "\n",
    "batch_state.shape"
   ]
  },
  {
   "cell_type": "code",
   "execution_count": null,
   "metadata": {},
   "outputs": [],
   "source": [
    "policy_net(batch_state)"
   ]
  },
  {
   "cell_type": "code",
   "execution_count": null,
   "metadata": {},
   "outputs": [],
   "source": []
  },
  {
   "cell_type": "markdown",
   "metadata": {},
   "source": [
    "### Агент"
   ]
  },
  {
   "cell_type": "code",
   "execution_count": null,
   "metadata": {},
   "outputs": [],
   "source": [
    "import random \n",
    "\n",
    "class Agent:\n",
    "    \n",
    "    # TODO: ВАЖНО: Подобрать параметры ниже    \n",
    "    GAMMA = 0.99\n",
    "\n",
    "    EXPLORATION_STEPS_COUNT = 200   # Количество шагов, когда совершаем ТОЛЬКО exploration \n",
    "    EPS_INITIAL = 0.9   # Начальное значение EPS, после которого начинаем подключать exploitation\n",
    "    EPS_FINAL = 0.05    # Минимальное значение EPS, до которого дойдем\n",
    "    EPS_DECAY_DELTA = 0.05   # Величина, на которую будем уменьшать EPS\n",
    "    EPS_DECAY_STEPS_COUNT = 100  # Через сколько шагов будем снижать EPS\n",
    "    \n",
    "    def __init__(self) -> None:\n",
    "        self.eps = 1    # По началу только exploration\n",
    "        self.made_steps_count = 0\n",
    "        self.n_actions = len(Action)\n",
    "        self.policy_net = DQN(screen_height, screen_width, self.n_actions).to(device)\n",
    "        self.optimizer = torch.optim.RMSprop(policy_net.parameters())\n",
    "    \n",
    "    def select_action(self, state: np.ndarray) -> Action:\n",
    "        self.made_steps_count += 1\n",
    "        \n",
    "        # Пока еще только exploration\n",
    "        if self.made_steps_count < self.EXPLORATION_STEPS_COUNT:\n",
    "            self.eps = 1\n",
    "        # Начинаем подключать exploitation\n",
    "        elif self.made_steps_count == self.EXPLORATION_STEPS_COUNT:\n",
    "            self.eps = self.EPS_INITIAL\n",
    "        # Каждые EPS_DECAY_STEPS_COUNT шагов на константу уменьшаем eps если он получится не меньше чем EPS_FINAL\n",
    "        elif self.made_steps_count % self.EPS_DECAY_STEPS_COUNT == 0 \\\n",
    "                and self.eps - self.EPS_DECAY_DELTA >= self.EPS_FINAL:\n",
    "            self.eps -= self.EPS_DECAY_DELTA                        \n",
    "        \n",
    "        exploit_prob = random.random()\n",
    "        if exploit_prob > self.eps:\n",
    "            with torch.no_grad():\n",
    "                # Сеть ожидает что у нас обязательно будет размерность для батча. Создаем фиктивную размерность \n",
    "                # Также создаем фиктивную размерность для числа каналов\n",
    "                state_batch = torch.from_numpy(state).float().unsqueeze(0).unsqueeze(0)\n",
    "                batch_action_rewards = policy_net(state_batch)\n",
    "                batch_argmax_actions = batch_action_rewards.max(1).indices\n",
    "                # Взяли нулевой элемент, т.к. у нас батч всего из одного элемента\n",
    "                action_ind = batch_argmax_actions.tolist()[0]\n",
    "        else:\n",
    "            action_ind = random.randrange(self.n_actions)        \n",
    "        return Action(action_ind)    \n",
    "    \n",
    "    def update_reward(self, state: np.ndarray, action: Action, next_state: np.ndarray, reward: int) -> None:\n",
    "        state_batch = torch.from_numpy(state).float().unsqueeze(0).unsqueeze(0)\n",
    "        next_state_batch = torch.from_numpy(next_state).float().unsqueeze(0).unsqueeze(0)\n",
    "        # Индексы действий что мы проделали. Используется чтобы достать текушие оценки Q для проделанных действий\n",
    "        action_batch = torch.from_numpy(np.array([action.value])).unsqueeze(0)\n",
    "        #reward_batch = torch.from_numpy(state).float().unsqueeze(0).unsqueeze(0)\n",
    "\n",
    "        # Получаем текущее \"жадное\" действие для уравнения Беллмана\n",
    "        with torch.no_grad():\n",
    "            next_state_values = policy_net(next_state_batch).max(1)[0]\n",
    "            expected_state_action_values = (next_state_values * GAMMA) + reward\n",
    "\n",
    "        # Получаем текущее значение Q для проделанного действия    \n",
    "        state_action_values = policy_net(state_batch).gather(1, action_batch)\n",
    "\n",
    "        criterion = nn.SmoothL1Loss()\n",
    "        loss = criterion(state_action_values, expected_state_action_values.unsqueeze(1))\n",
    "\n",
    "        optimizer.zero_grad()\n",
    "        loss.backward()\n",
    "        optimizer.step()    "
   ]
  },
  {
   "cell_type": "code",
   "execution_count": null,
   "metadata": {},
   "outputs": [],
   "source": [
    "agent = Agent()"
   ]
  },
  {
   "cell_type": "code",
   "execution_count": null,
   "metadata": {},
   "outputs": [],
   "source": []
  },
  {
   "cell_type": "markdown",
   "metadata": {},
   "source": [
    "### Цикл обучения"
   ]
  },
  {
   "cell_type": "code",
   "execution_count": null,
   "metadata": {},
   "outputs": [],
   "source": [
    "# TODO: число эпизодов подобрать\n",
    "episodes_count = 50\n",
    "\n",
    "for episode_num in range(episodes_count):\n",
    "    print(f\"Running episode {episode_num}\")\n",
    "    environment.restart()\n",
    "    environment.start_game()\n",
    "    \n",
    "    while not environment.has_crashed():\n",
    "        state = environment.get_screen()\n",
    "        if not environment.has_crashed(): \n",
    "            action = agent.select_action(state)\n",
    "            next_state, reward = environment.perform_action(action)\n",
    "            # Не сломались пока выполняли действие\n",
    "            if next_state is not None:\n",
    "                agent.update_reward(state, action, next_state, reward)\n",
    "            \n",
    "# TODO: Если так ничего хорошего не выйдет, то делать Replay Memory\n",
    "#https://pytorch.org/tutorials/intermediate/reinforcement_q_learning.html"
   ]
  },
  {
   "cell_type": "code",
   "execution_count": null,
   "metadata": {},
   "outputs": [],
   "source": []
  },
  {
   "cell_type": "code",
   "execution_count": null,
   "metadata": {},
   "outputs": [],
   "source": []
  }
 ],
 "metadata": {
  "kernelspec": {
   "display_name": "Python 3",
   "language": "python",
   "name": "python3"
  },
  "language_info": {
   "codemirror_mode": {
    "name": "ipython",
    "version": 3
   },
   "file_extension": ".py",
   "mimetype": "text/x-python",
   "name": "python",
   "nbconvert_exporter": "python",
   "pygments_lexer": "ipython3",
   "version": "3.8.3rc1"
  }
 },
 "nbformat": 4,
 "nbformat_minor": 5
}
