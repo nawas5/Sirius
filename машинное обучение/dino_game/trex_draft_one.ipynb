{
 "cells": [
  {
   "cell_type": "markdown",
   "metadata": {},
   "source": [
    "### Установка chromedriver"
   ]
  },
  {
   "cell_type": "markdown",
   "metadata": {},
   "source": [
    "1. Скачать и установить google chrome браузер\n",
    "2. Посмотреть версию браузера (настройки с троеточием справа -> Help -> About Google Chrome)\n",
    "3. Скачать и установить google-chrome-driver версии, соответствующей версии браузера https://chromedriver.chromium.org/\n",
    "4. Распаковать архив и положить в <путь к проекту>/bin/chromedriver\n",
    "на виндоуз переименовать чтобы не было .exe в расширении, либо в переменной ниже поменять путь к драйверу"
   ]
  },
  {
   "cell_type": "code",
   "execution_count": 1,
   "metadata": {
    "scrolled": true
   },
   "outputs": [
    {
     "name": "stdout",
     "output_type": "stream",
     "text": [
      "Note: you may need to restart the kernel to use updated packages.\n"
     ]
    },
    {
     "name": "stderr",
     "output_type": "stream",
     "text": [
      "WARNING: Ignoring invalid distribution -pencv-python (c:\\users\\stoma\\appdata\\local\\programs\\python\\python38\\lib\\site-packages)\n",
      "WARNING: Ignoring invalid distribution -pencv-python (c:\\users\\stoma\\appdata\\local\\programs\\python\\python38\\lib\\site-packages)\n",
      "WARNING: Ignoring invalid distribution -pencv-python (c:\\users\\stoma\\appdata\\local\\programs\\python\\python38\\lib\\site-packages)\n",
      "WARNING: Ignoring invalid distribution -pencv-python (c:\\users\\stoma\\appdata\\local\\programs\\python\\python38\\lib\\site-packages)\n",
      "WARNING: Ignoring invalid distribution -pencv-python (c:\\users\\stoma\\appdata\\local\\programs\\python\\python38\\lib\\site-packages)\n"
     ]
    }
   ],
   "source": [
    "pip install -q selenium "
   ]
  },
  {
   "cell_type": "code",
   "execution_count": null,
   "metadata": {},
   "outputs": [],
   "source": []
  },
  {
   "cell_type": "markdown",
   "metadata": {},
   "source": [
    "### Конфиги"
   ]
  },
  {
   "cell_type": "code",
   "execution_count": 2,
   "metadata": {},
   "outputs": [],
   "source": [
    "GAME_URL = \"chrome://dino/\"\n",
    "CHROMEDRIVER_PATH = \"./bin/chromedriver\""
   ]
  },
  {
   "cell_type": "code",
   "execution_count": 3,
   "metadata": {},
   "outputs": [],
   "source": [
    "from enum import Enum\n",
    "class Action(Enum):\n",
    "    DO_NOTHING = 0\n",
    "    JUMP = 1\n",
    "    # TODO: Add action DUSK\n",
    "    #DUSK = 2 "
   ]
  },
  {
   "cell_type": "markdown",
   "metadata": {},
   "source": [
    "### Среда"
   ]
  },
  {
   "cell_type": "code",
   "execution_count": 4,
   "metadata": {},
   "outputs": [],
   "source": [
    "import time\n",
    "import os\n",
    "import typing\n",
    "\n",
    "import cv2\n",
    "\n",
    "from PIL import ImageGrab\n",
    "\n",
    "import numpy as np\n",
    "\n",
    "from selenium import webdriver\n",
    "from selenium.webdriver.common.by import By\n",
    "from selenium.webdriver.common.keys import Keys"
   ]
  },
  {
   "cell_type": "code",
   "execution_count": 5,
   "metadata": {},
   "outputs": [],
   "source": [
    "# ОБЯЗАТЕЛЬНО TODO: Подобрать рамку под себя\n",
    "# Создать environment (см. код ниже)\n",
    "# Начать игру\n",
    "# Подобрать различные варианты через ImageGrab.grab(bbox=(0, 210, 550, 350))"
   ]
  },
  {
   "cell_type": "code",
   "execution_count": 6,
   "metadata": {},
   "outputs": [],
   "source": [
    "SCREEN_BBOX = (0, 200, 650, 400)\n",
    "SCREEN_BBOX = (100, 150, 350, 450)\n",
    "SCREEN_BBOX = (90, 300, 400, 345)"
   ]
  },
  {
   "cell_type": "code",
   "execution_count": 7,
   "metadata": {},
   "outputs": [
    {
     "data": {
      "image/png": "[encoded data removed]",
      "text/plain": [
       "<PIL.Image.Image image mode=RGB size=310x45 at 0x23B24AF2C70>"
      ]
     },
     "execution_count": 7,
     "metadata": {},
     "output_type": "execute_result"
    }
   ],
   "source": [
    "# Запускать для подбора бокса ПОСЛЕ создания энвайронмента ниже\n",
    "ImageGrab.grab(bbox=SCREEN_BBOX)"
   ]
  },
  {
   "cell_type": "code",
   "execution_count": null,
   "metadata": {},
   "outputs": [],
   "source": []
  },
  {
   "cell_type": "code",
   "execution_count": null,
   "metadata": {},
   "outputs": [],
   "source": []
  },
  {
   "cell_type": "code",
   "execution_count": 8,
   "metadata": {},
   "outputs": [],
   "source": [
    "class Environment:\n",
    "    def __init__(\n",
    "        self, \n",
    "        chrome_driver_path: str, \n",
    "        game_url: str, \n",
    "        speed: typing.Optional[int] = None,\n",
    "        acceleration: typing.Optional[float] = None,\n",
    "    ) -> None:\n",
    "        self.driver = webdriver.Chrome(executable_path=chrome_driver_path)\n",
    "        # Обязательно TODO: убедиться что эти параметры годятся \n",
    "        self.driver.set_window_position(x=-20, y=-20)\n",
    "        self.driver.set_window_size(550, 450)\n",
    "        try:\n",
    "            self.driver.get('chrome://dino')\n",
    "        except Exception:\n",
    "            pass   # ignore\n",
    "        \n",
    "        if speed:\n",
    "            self.driver.execute_script(f\"Runner.instance_.setSpeed({speed})\")\n",
    "        \n",
    "        if acceleration:\n",
    "            self.driver.execute_script(f\"Runner.config.ACCELERATION={acceleration}\")\n",
    "\n",
    "    def start_game(self):\n",
    "        self.driver.find_element(By.TAG_NAME, \"body\").send_keys(Keys.SPACE)\n",
    "        time.sleep(2)\n",
    "        \n",
    "    def close_game(self):\n",
    "        self.driver.close()\n",
    "            \n",
    "    def perform_action(self, action: Action) -> (typing.Optional[np.ndarray], float):\n",
    "        state = self.get_screen()\n",
    "        if action == Action.DO_NOTHING:\n",
    "            pass\n",
    "        elif action == Action.JUMP:\n",
    "            # TODO: Принять решение не нужна ли тут какая-то пауза убедиться что прыжок закончили\n",
    "            self.driver.find_element(By.TAG_NAME, \"body\").send_keys(Keys.SPACE)\n",
    "            time.sleep(0.5)\n",
    "        elif action == Action.DUSK:\n",
    "            # TODO: (ТОЛЬКО ЕСЛИ ДОБАВИЛИ СООТВЕТСТВУЮШИЙ ЭКШН В АГЕНТА) \n",
    "            # Если был выбран нырок, то возможно стоит подольше его подержать, а не просто один раз кликнуть\n",
    "            self.driver.driver.find_element(By.TAG_NAME, \"body\").send_keys(Keys.ARRAYS_DOWN)\n",
    "        else:\n",
    "            raise Exception(f\"Unsupported action {action}\")\n",
    "        \n",
    "        if self.has_crashed():\n",
    "            return None, 0\n",
    "        else:\n",
    "            # TODO: Попробовать разные варианты вычисления награды. Может штрафовать за лишние прыжки, например\n",
    "            reward = self.get_score() ** 1.1\n",
    "        return state, reward\n",
    "            \n",
    "    def has_crashed(self) -> bool:\n",
    "        return self.driver.execute_script(\"return Runner.instance_.crashed\")\n",
    "    \n",
    "    def restart(self) -> None:\n",
    "        self.driver.execute_script(\"Runner.instance_.restart()\")\n",
    "\n",
    "    def get_screen(self) -> np.ndarray:\n",
    "        screen = ImageGrab.grab(bbox=SCREEN_BBOX)\n",
    "        screen = np.array(screen)\n",
    "        return self.preprocess_screen(screen)\n",
    "        \n",
    "    def preprocess_screen(self, screen: np.ndarray) -> np.ndarray:\n",
    "        # TODO: Добавить больше препроцессинга. Возможные идеи:\n",
    "        #    Убрать облака?\n",
    "        #    Убрать линию \"дороги\"?\n",
    "        #    Обрезать изображение?\n",
    "        #    Сделать черно-белым?\n",
    "        #    Поменять размер?\n",
    "        #    Сделать динозавра прямоугольником? :) \n",
    "        #    Меньше будущей информации?\n",
    "        #    Ваши идеи\n",
    "        return cv2.cvtColor(screen, cv2.COLOR_BGR2GRAY)\n",
    "        \n",
    "    def get_score(self) -> int:\n",
    "        score_array = self.driver.execute_script(\"return Runner.instance_.distanceMeter.digits\")\n",
    "        score = ''.join(score_array)\n",
    "        return int(score)\n"
   ]
  },
  {
   "cell_type": "code",
   "execution_count": 9,
   "metadata": {},
   "outputs": [
    {
     "name": "stderr",
     "output_type": "stream",
     "text": [
      "<ipython-input-8-1cbb709425cd>:9: DeprecationWarning: executable_path has been deprecated, please pass in a Service object\n",
      "  self.driver = webdriver.Chrome(executable_path=chrome_driver_path)\n"
     ]
    },
    {
     "ename": "WebDriverException",
     "evalue": "Message: 'chromedriver' executable needs to be in PATH. Please see https://chromedriver.chromium.org/home\n",
     "output_type": "error",
     "traceback": [
      "\u001b[1;31m---------------------------------------------------------------------------\u001b[0m",
      "\u001b[1;31mFileNotFoundError\u001b[0m                         Traceback (most recent call last)",
      "\u001b[1;32mc:\\users\\stoma\\appdata\\local\\programs\\python\\python38\\lib\\site-packages\\selenium\\webdriver\\common\\service.py\u001b[0m in \u001b[0;36mstart\u001b[1;34m(self)\u001b[0m\n\u001b[0;32m     73\u001b[0m             \u001b[0mcmd\u001b[0m\u001b[1;33m.\u001b[0m\u001b[0mextend\u001b[0m\u001b[1;33m(\u001b[0m\u001b[0mself\u001b[0m\u001b[1;33m.\u001b[0m\u001b[0mcommand_line_args\u001b[0m\u001b[1;33m(\u001b[0m\u001b[1;33m)\u001b[0m\u001b[1;33m)\u001b[0m\u001b[1;33m\u001b[0m\u001b[1;33m\u001b[0m\u001b[0m\n\u001b[1;32m---> 74\u001b[1;33m             self.process = subprocess.Popen(cmd, env=self.env,\n\u001b[0m\u001b[0;32m     75\u001b[0m                                             \u001b[0mclose_fds\u001b[0m\u001b[1;33m=\u001b[0m\u001b[0msystem\u001b[0m\u001b[1;33m(\u001b[0m\u001b[1;33m)\u001b[0m \u001b[1;33m!=\u001b[0m \u001b[1;34m'Windows'\u001b[0m\u001b[1;33m,\u001b[0m\u001b[1;33m\u001b[0m\u001b[1;33m\u001b[0m\u001b[0m\n",
      "\u001b[1;32mc:\\users\\stoma\\appdata\\local\\programs\\python\\python38\\lib\\subprocess.py\u001b[0m in \u001b[0;36m__init__\u001b[1;34m(self, args, bufsize, executable, stdin, stdout, stderr, preexec_fn, close_fds, shell, cwd, env, universal_newlines, startupinfo, creationflags, restore_signals, start_new_session, pass_fds, encoding, errors, text)\u001b[0m\n\u001b[0;32m    853\u001b[0m \u001b[1;33m\u001b[0m\u001b[0m\n\u001b[1;32m--> 854\u001b[1;33m             self._execute_child(args, executable, preexec_fn, close_fds,\n\u001b[0m\u001b[0;32m    855\u001b[0m                                 \u001b[0mpass_fds\u001b[0m\u001b[1;33m,\u001b[0m \u001b[0mcwd\u001b[0m\u001b[1;33m,\u001b[0m \u001b[0menv\u001b[0m\u001b[1;33m,\u001b[0m\u001b[1;33m\u001b[0m\u001b[1;33m\u001b[0m\u001b[0m\n",
      "\u001b[1;32mc:\\users\\stoma\\appdata\\local\\programs\\python\\python38\\lib\\subprocess.py\u001b[0m in \u001b[0;36m_execute_child\u001b[1;34m(self, args, executable, preexec_fn, close_fds, pass_fds, cwd, env, startupinfo, creationflags, shell, p2cread, p2cwrite, c2pread, c2pwrite, errread, errwrite, unused_restore_signals, unused_start_new_session)\u001b[0m\n\u001b[0;32m   1306\u001b[0m             \u001b[1;32mtry\u001b[0m\u001b[1;33m:\u001b[0m\u001b[1;33m\u001b[0m\u001b[1;33m\u001b[0m\u001b[0m\n\u001b[1;32m-> 1307\u001b[1;33m                 hp, ht, pid, tid = _winapi.CreateProcess(executable, args,\n\u001b[0m\u001b[0;32m   1308\u001b[0m                                          \u001b[1;31m# no special security\u001b[0m\u001b[1;33m\u001b[0m\u001b[1;33m\u001b[0m\u001b[1;33m\u001b[0m\u001b[0m\n",
      "\u001b[1;31mFileNotFoundError\u001b[0m: [WinError 2] Не удается найти указанный файл",
      "\nDuring handling of the above exception, another exception occurred:\n",
      "\u001b[1;31mWebDriverException\u001b[0m                        Traceback (most recent call last)",
      "\u001b[1;32m<ipython-input-9-788fb9cf39e1>\u001b[0m in \u001b[0;36m<module>\u001b[1;34m\u001b[0m\n\u001b[0;32m      2\u001b[0m \u001b[1;31m# TODO: Принять решение будете ли использовать ускорение или лучше задать его в ноль (тогда не будет птичек еще)\u001b[0m\u001b[1;33m\u001b[0m\u001b[1;33m\u001b[0m\u001b[1;33m\u001b[0m\u001b[0m\n\u001b[0;32m      3\u001b[0m \u001b[1;33m\u001b[0m\u001b[0m\n\u001b[1;32m----> 4\u001b[1;33m \u001b[0menvironment\u001b[0m \u001b[1;33m=\u001b[0m \u001b[0mEnvironment\u001b[0m\u001b[1;33m(\u001b[0m\u001b[0mCHROMEDRIVER_PATH\u001b[0m\u001b[1;33m,\u001b[0m \u001b[0mGAME_URL\u001b[0m\u001b[1;33m)\u001b[0m\u001b[1;33m\u001b[0m\u001b[1;33m\u001b[0m\u001b[0m\n\u001b[0m",
      "\u001b[1;32m<ipython-input-8-1cbb709425cd>\u001b[0m in \u001b[0;36m__init__\u001b[1;34m(self, chrome_driver_path, game_url, speed, acceleration)\u001b[0m\n\u001b[0;32m      7\u001b[0m         \u001b[0macceleration\u001b[0m\u001b[1;33m:\u001b[0m \u001b[0mtyping\u001b[0m\u001b[1;33m.\u001b[0m\u001b[0mOptional\u001b[0m\u001b[1;33m[\u001b[0m\u001b[0mfloat\u001b[0m\u001b[1;33m]\u001b[0m \u001b[1;33m=\u001b[0m \u001b[1;32mNone\u001b[0m\u001b[1;33m,\u001b[0m\u001b[1;33m\u001b[0m\u001b[1;33m\u001b[0m\u001b[0m\n\u001b[0;32m      8\u001b[0m     ) -> None:\n\u001b[1;32m----> 9\u001b[1;33m         \u001b[0mself\u001b[0m\u001b[1;33m.\u001b[0m\u001b[0mdriver\u001b[0m \u001b[1;33m=\u001b[0m \u001b[0mwebdriver\u001b[0m\u001b[1;33m.\u001b[0m\u001b[0mChrome\u001b[0m\u001b[1;33m(\u001b[0m\u001b[0mexecutable_path\u001b[0m\u001b[1;33m=\u001b[0m\u001b[0mchrome_driver_path\u001b[0m\u001b[1;33m)\u001b[0m\u001b[1;33m\u001b[0m\u001b[1;33m\u001b[0m\u001b[0m\n\u001b[0m\u001b[0;32m     10\u001b[0m         \u001b[1;31m# Обязательно TODO: убедиться что эти параметры годятся\u001b[0m\u001b[1;33m\u001b[0m\u001b[1;33m\u001b[0m\u001b[1;33m\u001b[0m\u001b[0m\n\u001b[0;32m     11\u001b[0m         \u001b[0mself\u001b[0m\u001b[1;33m.\u001b[0m\u001b[0mdriver\u001b[0m\u001b[1;33m.\u001b[0m\u001b[0mset_window_position\u001b[0m\u001b[1;33m(\u001b[0m\u001b[0mx\u001b[0m\u001b[1;33m=\u001b[0m\u001b[1;33m-\u001b[0m\u001b[1;36m20\u001b[0m\u001b[1;33m,\u001b[0m \u001b[0my\u001b[0m\u001b[1;33m=\u001b[0m\u001b[1;33m-\u001b[0m\u001b[1;36m20\u001b[0m\u001b[1;33m)\u001b[0m\u001b[1;33m\u001b[0m\u001b[1;33m\u001b[0m\u001b[0m\n",
      "\u001b[1;32mc:\\users\\stoma\\appdata\\local\\programs\\python\\python38\\lib\\site-packages\\selenium\\webdriver\\chrome\\webdriver.py\u001b[0m in \u001b[0;36m__init__\u001b[1;34m(self, executable_path, port, options, service_args, desired_capabilities, service_log_path, chrome_options, service, keep_alive)\u001b[0m\n\u001b[0;32m     67\u001b[0m             \u001b[0mservice\u001b[0m \u001b[1;33m=\u001b[0m \u001b[0mService\u001b[0m\u001b[1;33m(\u001b[0m\u001b[0mexecutable_path\u001b[0m\u001b[1;33m,\u001b[0m \u001b[0mport\u001b[0m\u001b[1;33m,\u001b[0m \u001b[0mservice_args\u001b[0m\u001b[1;33m,\u001b[0m \u001b[0mservice_log_path\u001b[0m\u001b[1;33m)\u001b[0m\u001b[1;33m\u001b[0m\u001b[1;33m\u001b[0m\u001b[0m\n\u001b[0;32m     68\u001b[0m \u001b[1;33m\u001b[0m\u001b[0m\n\u001b[1;32m---> 69\u001b[1;33m         super(WebDriver, self).__init__(DesiredCapabilities.CHROME['browserName'], \"goog\",\n\u001b[0m\u001b[0;32m     70\u001b[0m                                         \u001b[0mport\u001b[0m\u001b[1;33m,\u001b[0m \u001b[0moptions\u001b[0m\u001b[1;33m,\u001b[0m\u001b[1;33m\u001b[0m\u001b[1;33m\u001b[0m\u001b[0m\n\u001b[0;32m     71\u001b[0m                                         \u001b[0mservice_args\u001b[0m\u001b[1;33m,\u001b[0m \u001b[0mdesired_capabilities\u001b[0m\u001b[1;33m,\u001b[0m\u001b[1;33m\u001b[0m\u001b[1;33m\u001b[0m\u001b[0m\n",
      "\u001b[1;32mc:\\users\\stoma\\appdata\\local\\programs\\python\\python38\\lib\\site-packages\\selenium\\webdriver\\chromium\\webdriver.py\u001b[0m in \u001b[0;36m__init__\u001b[1;34m(self, browser_name, vendor_prefix, port, options, service_args, desired_capabilities, service_log_path, service, keep_alive)\u001b[0m\n\u001b[0;32m     88\u001b[0m \u001b[1;33m\u001b[0m\u001b[0m\n\u001b[0;32m     89\u001b[0m         \u001b[0mself\u001b[0m\u001b[1;33m.\u001b[0m\u001b[0mservice\u001b[0m \u001b[1;33m=\u001b[0m \u001b[0mservice\u001b[0m\u001b[1;33m\u001b[0m\u001b[1;33m\u001b[0m\u001b[0m\n\u001b[1;32m---> 90\u001b[1;33m         \u001b[0mself\u001b[0m\u001b[1;33m.\u001b[0m\u001b[0mservice\u001b[0m\u001b[1;33m.\u001b[0m\u001b[0mstart\u001b[0m\u001b[1;33m(\u001b[0m\u001b[1;33m)\u001b[0m\u001b[1;33m\u001b[0m\u001b[1;33m\u001b[0m\u001b[0m\n\u001b[0m\u001b[0;32m     91\u001b[0m \u001b[1;33m\u001b[0m\u001b[0m\n\u001b[0;32m     92\u001b[0m         \u001b[1;32mtry\u001b[0m\u001b[1;33m:\u001b[0m\u001b[1;33m\u001b[0m\u001b[1;33m\u001b[0m\u001b[0m\n",
      "\u001b[1;32mc:\\users\\stoma\\appdata\\local\\programs\\python\\python38\\lib\\site-packages\\selenium\\webdriver\\common\\service.py\u001b[0m in \u001b[0;36mstart\u001b[1;34m(self)\u001b[0m\n\u001b[0;32m     82\u001b[0m         \u001b[1;32mexcept\u001b[0m \u001b[0mOSError\u001b[0m \u001b[1;32mas\u001b[0m \u001b[0merr\u001b[0m\u001b[1;33m:\u001b[0m\u001b[1;33m\u001b[0m\u001b[1;33m\u001b[0m\u001b[0m\n\u001b[0;32m     83\u001b[0m             \u001b[1;32mif\u001b[0m \u001b[0merr\u001b[0m\u001b[1;33m.\u001b[0m\u001b[0merrno\u001b[0m \u001b[1;33m==\u001b[0m \u001b[0merrno\u001b[0m\u001b[1;33m.\u001b[0m\u001b[0mENOENT\u001b[0m\u001b[1;33m:\u001b[0m\u001b[1;33m\u001b[0m\u001b[1;33m\u001b[0m\u001b[0m\n\u001b[1;32m---> 84\u001b[1;33m                 raise WebDriverException(\n\u001b[0m\u001b[0;32m     85\u001b[0m                     \"'%s' executable needs to be in PATH. %s\" % (\n\u001b[0;32m     86\u001b[0m                         os.path.basename(self.path), self.start_error_message)\n",
      "\u001b[1;31mWebDriverException\u001b[0m: Message: 'chromedriver' executable needs to be in PATH. Please see https://chromedriver.chromium.org/home\n"
     ]
    }
   ],
   "source": [
    "# TODO: Подобрать какая скорость больше подойдет\n",
    "# TODO: Принять решение будете ли использовать ускорение или лучше задать его в ноль (тогда не будет птичек еще)\n",
    "\n",
    "environment = Environment(CHROMEDRIVER_PATH, GAME_URL)"
   ]
  },
  {
   "cell_type": "code",
   "execution_count": null,
   "metadata": {},
   "outputs": [],
   "source": [
    "environment.start_game()"
   ]
  },
  {
   "cell_type": "code",
   "execution_count": null,
   "metadata": {},
   "outputs": [],
   "source": [
    "environment.perform_action(Action.JUMP)"
   ]
  },
  {
   "cell_type": "code",
   "execution_count": null,
   "metadata": {},
   "outputs": [],
   "source": [
    "environment.perform_action(Action.DO_NOTHING)"
   ]
  },
  {
   "cell_type": "code",
   "execution_count": null,
   "metadata": {},
   "outputs": [],
   "source": []
  },
  {
   "cell_type": "code",
   "execution_count": null,
   "metadata": {},
   "outputs": [],
   "source": []
  },
  {
   "cell_type": "markdown",
   "metadata": {},
   "source": [
    "### DQN"
   ]
  },
  {
   "cell_type": "code",
   "execution_count": null,
   "metadata": {},
   "outputs": [],
   "source": [
    "import torch\n",
    "import torch.nn as nn\n",
    "import math\n",
    "import torch.nn.functional as F\n",
    "\n",
    "device = torch.device(\"cuda\" if torch.cuda.is_available() else \"cpu\")\n",
    "\n",
    "\n",
    "class DQN(nn.Module):\n",
    "    def __init__(self, screen_width, screen_height, action_count):\n",
    "        super(DQN, self).__init__()\n",
    "        self.conv1 = nn.Conv2d(1, 16, kernel_size=5, stride=2)\n",
    "        #conv1_out_width = self.conv2d_size_out(screen_width)\n",
    "        #conv1_out_height = self.conv2d_size_out(screen_height)\n",
    "        self.bn1 = nn.BatchNorm2d(16)\n",
    "        self.conv2 = nn.Conv2d(16, 32, kernel_size=5, stride=2)\n",
    "        self.bn2 = nn.BatchNorm2d(32)\n",
    "        self.conv3 = nn.Conv2d(32, 32, kernel_size=5, stride=2)\n",
    "        self.bn3 = nn.BatchNorm2d(32)\n",
    "\n",
    "\n",
    "        \n",
    "        #self.flatten = nn.Flatten()\n",
    "        #self.head = nn.Linear(conv1_out_width * conv1_out_height * 16, action_count)\n",
    "        \n",
    "        def conv2d_size_out(size, kernel_size=5, stride=2) -> int:\n",
    "            return (size - (kernel_size - 1) - 1) // stride  + 1\n",
    "        \n",
    "        convw = conv2d_size_out(conv2d_size_out(conv2d_size_out(screen_width)))\n",
    "        convh = conv2d_size_out(conv2d_size_out(conv2d_size_out(screen_height)))\n",
    "        \n",
    "        linear_input_size = convw * convh * 32\n",
    "        self.head = nn.Linear(linear_input_size, action_count)\n",
    "        \n",
    "    def forward(self, x):\n",
    "        # TODO: Добавить различные сверточные слои / функции активации / и т.д.\n",
    "        x = x.to(device)\n",
    "        x = F.relu(self.bn1(self.conv1(x)))\n",
    "        x = F.relu(self.bn2(self.conv2(x)))\n",
    "        x = F.relu(self.bn3(self.conv3(x)))\n",
    "\n",
    "        return self.head(x.view(x.size(0), -1))\n",
    "    "
   ]
  },
  {
   "cell_type": "code",
   "execution_count": null,
   "metadata": {},
   "outputs": [],
   "source": []
  },
  {
   "cell_type": "code",
   "execution_count": null,
   "metadata": {},
   "outputs": [],
   "source": []
  },
  {
   "cell_type": "code",
   "execution_count": null,
   "metadata": {},
   "outputs": [],
   "source": [
    "screen_height = SCREEN_BBOX[3] - SCREEN_BBOX[1]\n",
    "screen_width = SCREEN_BBOX[2] - SCREEN_BBOX[0]\n",
    "\n",
    "screen_height, screen_width"
   ]
  },
  {
   "cell_type": "code",
   "execution_count": null,
   "metadata": {},
   "outputs": [],
   "source": [
    "policy_net = DQN(screen_height, screen_width, len(Action)).to(device)"
   ]
  },
  {
   "cell_type": "code",
   "execution_count": null,
   "metadata": {},
   "outputs": [],
   "source": [
    "state = torch.from_numpy(environment.get_screen()).float()\n",
    "batch_state = state.unsqueeze(0).unsqueeze(0)\n",
    "\n",
    "batch_state.shape"
   ]
  },
  {
   "cell_type": "code",
   "execution_count": null,
   "metadata": {},
   "outputs": [],
   "source": [
    "policy_net(batch_state)"
   ]
  },
  {
   "cell_type": "code",
   "execution_count": null,
   "metadata": {},
   "outputs": [],
   "source": []
  },
  {
   "cell_type": "markdown",
   "metadata": {},
   "source": [
    "### Агент"
   ]
  },
  {
   "cell_type": "code",
   "execution_count": null,
   "metadata": {},
   "outputs": [],
   "source": [
    "import random \n",
    "import collections as col\n",
    "\n",
    "Transition = col.namedtuple('Transition', ('state', 'action', 'next_state', 'reward'))\n",
    "\n",
    "class ReplayMemory(object):\n",
    "\n",
    "    def __init__(self, capacity):\n",
    "        self.memory = col.deque([],maxlen=capacity)\n",
    "\n",
    "    def push(self, *args):\n",
    "        \"\"\"Save a transition\"\"\"\n",
    "        self.memory.append(Transition(*args))\n",
    "\n",
    "    def sample(self, batch_size):\n",
    "        return random.sample(self.memory, batch_size)\n",
    "\n",
    "    def __len__(self):\n",
    "        return len(self.memory)\n",
    "\n",
    "class Agent:\n",
    "    \n",
    "    # TODO: ВАЖНО: Подобрать параметры ниже    \n",
    "\n",
    "    EXPLORATION_STEPS_COUNT = 30   # Количество шагов, когда совершаем ТОЛЬКО exploration \n",
    "    EPS_INITIAL = 0.9   # Начальное значение EPS, после которого начинаем подключать exploitation\n",
    "    EPS_FINAL = 0.05   # Минимальное значение EPS, до которого дойдем\n",
    "    EPS_DECAY_DELTA = 0.05   # Величина, на которую будем уменьшать EPS\n",
    "    EPS_DECAY_STEPS_COUNT = 15  # Через сколько шагов будем снижать EPS\n",
    "    \n",
    "    \n",
    "    \n",
    "    def __init__(self) -> None:\n",
    "        self.eps = 1    # По началу только exploration\n",
    "        self.made_steps_count = 0\n",
    "        self.n_actions = len(Action)\n",
    "        self.policy_net = DQN(screen_height, screen_width, self.n_actions).to(device)\n",
    "        self.optimizer = torch.optim.RMSprop(policy_net.parameters())\n",
    "        self.memory = ReplayMemory(10000)\n",
    "    \n",
    "    def select_action(self, state: np.ndarray) -> Action:\n",
    "        self.made_steps_count += 1\n",
    "        \n",
    "        # Пока еще только exploration\n",
    "        if self.made_steps_count < self.EXPLORATION_STEPS_COUNT:\n",
    "            self.eps = 1\n",
    "        # Начинаем подключать exploitation\n",
    "        elif self.made_steps_count == self.EXPLORATION_STEPS_COUNT:\n",
    "            self.eps = self.EPS_INITIAL\n",
    "        # Каждые EPS_DECAY_STEPS_COUNT шагов на константу уменьшаем eps если он получится не меньше чем EPS_FINAL\n",
    "        elif self.made_steps_count % self.EPS_DECAY_STEPS_COUNT == 0 \\\n",
    "                and self.eps - self.EPS_DECAY_DELTA >= self.EPS_FINAL:\n",
    "            self.eps -= self.EPS_DECAY_DELTA                        \n",
    "        \n",
    "        exploit_prob = random.random()\n",
    "        if exploit_prob > self.eps:\n",
    "            with torch.no_grad():\n",
    "                # Сеть ожидает что у нас обязательно будет размерность для батча. Создаем фиктивную размерность \n",
    "                # Также создаем фиктивную размерность для числа каналов\n",
    "                state_batch = torch.from_numpy(state).float().unsqueeze(0).unsqueeze(0)\n",
    "                batch_action_rewards = policy_net(state_batch)\n",
    "                batch_argmax_actions = batch_action_rewards.max(1).indices\n",
    "                # Взяли нулевой элемент, т.к. у нас батч всего из одного элемента\n",
    "                action_ind = batch_argmax_actions.tolist()[0]\n",
    "        else:\n",
    "            action_ind = random.randrange(self.n_actions)        \n",
    "        return Action(action_ind)    \n",
    "    \n",
    "    def update_reward(self, state: np.ndarray, action: Action, next_state: np.ndarray, reward: int) -> None:\n",
    "        state_batch = torch.from_numpy(state).float().unsqueeze(0).unsqueeze(0)\n",
    "        next_state_batch = torch.from_numpy(next_state).float().unsqueeze(0).unsqueeze(0)\n",
    "        # Индексы действий что мы проделали. Используется чтобы достать текушие оценки Q для проделанных действий\n",
    "        action_batch = torch.from_numpy(np.array([action.value])).unsqueeze(0)\n",
    "        #reward_batch = torch.from_numpy(state).float().unsqueeze(0).unsqueeze(0)\n",
    "\n",
    "        # Получаем текущее \"жадное\" действие для уравнения Беллмана\n",
    "        with torch.no_grad():\n",
    "            next_state_values = policy_net(next_state_batch).max(1)[0]\n",
    "            expected_state_action_values = (next_state_values * 0.99) + reward\n",
    "\n",
    "        # Получаем текущее значение Q для проделанного действия    \n",
    "        state_action_values = policy_net(state_batch).gather(1, action_batch.type(torch.int64))\n",
    "\n",
    "        criterion = nn.SmoothL1Loss()\n",
    "        loss = criterion(state_action_values, expected_state_action_values.unsqueeze(1))\n",
    "\n",
    "        self.optimizer.zero_grad()\n",
    "        loss.backward()\n",
    "        self.optimizer.step()    "
   ]
  },
  {
   "cell_type": "code",
   "execution_count": null,
   "metadata": {},
   "outputs": [],
   "source": [
    "agent = Agent()"
   ]
  },
  {
   "cell_type": "code",
   "execution_count": null,
   "metadata": {},
   "outputs": [],
   "source": []
  },
  {
   "cell_type": "markdown",
   "metadata": {},
   "source": [
    "### Цикл обучения"
   ]
  },
  {
   "cell_type": "code",
   "execution_count": null,
   "metadata": {},
   "outputs": [],
   "source": [
    "# TODO: число эпизодов подобрать\n",
    "episodes_count = 200\n",
    "\n",
    "\n",
    "for episode_num in range(episodes_count):\n",
    "    print(f\"Running episode {episode_num}\")\n",
    "    environment.restart()\n",
    "    environment.start_game()\n",
    "    \n",
    "    while not environment.has_crashed():\n",
    "        state = environment.get_screen()\n",
    "        if not environment.has_crashed(): \n",
    "            action = agent.select_action(state)\n",
    "            next_state, reward = environment.perform_action(action)\n",
    "            # Не сломались пока выполняли действие\n",
    "            agent.memory.push(state, action, next_state, reward)\n",
    "            if next_state is not None:\n",
    "                agent.update_reward(state, action, next_state, reward)\n",
    "                \n",
    "            \n",
    "# TODO: Если так ничего хорошего не выйдет, то делать Replay Memory\n",
    "#https://pytorch.org/tutorials/intermediate/reinforcement_q_learning.html"
   ]
  },
  {
   "cell_type": "markdown",
   "metadata": {},
   "source": [
    "###### "
   ]
  },
  {
   "cell_type": "code",
   "execution_count": null,
   "metadata": {},
   "outputs": [],
   "source": []
  }
 ],
 "metadata": {
  "kernelspec": {
   "display_name": "Python 3",
   "language": "python",
   "name": "python3"
  },
  "language_info": {
   "codemirror_mode": {
    "name": "ipython",
    "version": 3
   },
   "file_extension": ".py",
   "mimetype": "text/x-python",
   "name": "python",
   "nbconvert_exporter": "python",
   "pygments_lexer": "ipython3",
   "version": "3.8.3rc1"
  }
 },
 "nbformat": 4,
 "nbformat_minor": 5
}
